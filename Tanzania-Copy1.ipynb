{
 "cells": [
  {
   "cell_type": "markdown",
   "id": "7a44eaf2",
   "metadata": {},
   "source": [
    "<h1 style=\"color:Orange\"> Tanzania Tourism Predictions</h1>\n",
    "\n",
    "The objective of this task is to develop a machine learning model to predict what a tourist will spend when visiting Tanzania.The model can be used by different tour operators and the Tanzania Tourism Board to automatically help tourists across the world estimate their expenditure before visiting Tanzania."
   ]
  },
  {
   "cell_type": "markdown",
   "id": "0642f1ca",
   "metadata": {},
   "source": [
    "### Setting up my Environment and Loading Data"
   ]
  },
  {
   "cell_type": "code",
   "execution_count": 1,
   "id": "c0e54fd6",
   "metadata": {},
   "outputs": [],
   "source": [
    "import pandas as pd\n",
    "import numpy as np\n",
    "import seaborn as sns\n",
    "import matplotlib.pyplot as plt\n",
    "%matplotlib inline\n",
    "from sklearn.metrics import mean_squared_error, mean_absolute_error, r2_score"
   ]
  },
  {
   "cell_type": "code",
   "execution_count": 2,
   "id": "6230cd01",
   "metadata": {},
   "outputs": [],
   "source": [
    "df=pd.read_csv('tanzania_train.csv')\n",
    "test=pd.read_csv('tanzania_test.csv')"
   ]
  },
  {
   "cell_type": "markdown",
   "id": "801d0299",
   "metadata": {},
   "source": [
    "### EDA"
   ]
  },
  {
   "cell_type": "code",
   "execution_count": 3,
   "id": "5d05b8b5",
   "metadata": {},
   "outputs": [
    {
     "data": {
      "text/html": [
       "<div>\n",
       "<style scoped>\n",
       "    .dataframe tbody tr th:only-of-type {\n",
       "        vertical-align: middle;\n",
       "    }\n",
       "\n",
       "    .dataframe tbody tr th {\n",
       "        vertical-align: top;\n",
       "    }\n",
       "\n",
       "    .dataframe thead th {\n",
       "        text-align: right;\n",
       "    }\n",
       "</style>\n",
       "<table border=\"1\" class=\"dataframe\">\n",
       "  <thead>\n",
       "    <tr style=\"text-align: right;\">\n",
       "      <th></th>\n",
       "      <th>ID</th>\n",
       "      <th>country</th>\n",
       "      <th>age_group</th>\n",
       "      <th>travel_with</th>\n",
       "      <th>total_female</th>\n",
       "      <th>total_male</th>\n",
       "      <th>purpose</th>\n",
       "      <th>main_activity</th>\n",
       "      <th>info_source</th>\n",
       "      <th>tour_arrangement</th>\n",
       "      <th>...</th>\n",
       "      <th>package_transport_tz</th>\n",
       "      <th>package_sightseeing</th>\n",
       "      <th>package_guided_tour</th>\n",
       "      <th>package_insurance</th>\n",
       "      <th>night_mainland</th>\n",
       "      <th>night_zanzibar</th>\n",
       "      <th>payment_mode</th>\n",
       "      <th>first_trip_tz</th>\n",
       "      <th>most_impressing</th>\n",
       "      <th>total_cost</th>\n",
       "    </tr>\n",
       "  </thead>\n",
       "  <tbody>\n",
       "    <tr>\n",
       "      <th>0</th>\n",
       "      <td>tour_0</td>\n",
       "      <td>SWIZERLAND</td>\n",
       "      <td>45-64</td>\n",
       "      <td>Friends/Relatives</td>\n",
       "      <td>1.0</td>\n",
       "      <td>1.0</td>\n",
       "      <td>Leisure and Holidays</td>\n",
       "      <td>Wildlife tourism</td>\n",
       "      <td>Friends, relatives</td>\n",
       "      <td>Independent</td>\n",
       "      <td>...</td>\n",
       "      <td>No</td>\n",
       "      <td>No</td>\n",
       "      <td>No</td>\n",
       "      <td>No</td>\n",
       "      <td>13.0</td>\n",
       "      <td>0.0</td>\n",
       "      <td>Cash</td>\n",
       "      <td>No</td>\n",
       "      <td>Friendly People</td>\n",
       "      <td>674602.5</td>\n",
       "    </tr>\n",
       "    <tr>\n",
       "      <th>1</th>\n",
       "      <td>tour_10</td>\n",
       "      <td>UNITED KINGDOM</td>\n",
       "      <td>25-44</td>\n",
       "      <td>NaN</td>\n",
       "      <td>1.0</td>\n",
       "      <td>0.0</td>\n",
       "      <td>Leisure and Holidays</td>\n",
       "      <td>Cultural tourism</td>\n",
       "      <td>others</td>\n",
       "      <td>Independent</td>\n",
       "      <td>...</td>\n",
       "      <td>No</td>\n",
       "      <td>No</td>\n",
       "      <td>No</td>\n",
       "      <td>No</td>\n",
       "      <td>14.0</td>\n",
       "      <td>7.0</td>\n",
       "      <td>Cash</td>\n",
       "      <td>Yes</td>\n",
       "      <td>Wonderful Country, Landscape, Nature</td>\n",
       "      <td>3214906.5</td>\n",
       "    </tr>\n",
       "    <tr>\n",
       "      <th>2</th>\n",
       "      <td>tour_1000</td>\n",
       "      <td>UNITED KINGDOM</td>\n",
       "      <td>25-44</td>\n",
       "      <td>Alone</td>\n",
       "      <td>0.0</td>\n",
       "      <td>1.0</td>\n",
       "      <td>Visiting Friends and Relatives</td>\n",
       "      <td>Cultural tourism</td>\n",
       "      <td>Friends, relatives</td>\n",
       "      <td>Independent</td>\n",
       "      <td>...</td>\n",
       "      <td>No</td>\n",
       "      <td>No</td>\n",
       "      <td>No</td>\n",
       "      <td>No</td>\n",
       "      <td>1.0</td>\n",
       "      <td>31.0</td>\n",
       "      <td>Cash</td>\n",
       "      <td>No</td>\n",
       "      <td>Excellent Experience</td>\n",
       "      <td>3315000.0</td>\n",
       "    </tr>\n",
       "    <tr>\n",
       "      <th>3</th>\n",
       "      <td>tour_1002</td>\n",
       "      <td>UNITED KINGDOM</td>\n",
       "      <td>25-44</td>\n",
       "      <td>Spouse</td>\n",
       "      <td>1.0</td>\n",
       "      <td>1.0</td>\n",
       "      <td>Leisure and Holidays</td>\n",
       "      <td>Wildlife tourism</td>\n",
       "      <td>Travel, agent, tour operator</td>\n",
       "      <td>Package Tour</td>\n",
       "      <td>...</td>\n",
       "      <td>Yes</td>\n",
       "      <td>Yes</td>\n",
       "      <td>Yes</td>\n",
       "      <td>No</td>\n",
       "      <td>11.0</td>\n",
       "      <td>0.0</td>\n",
       "      <td>Cash</td>\n",
       "      <td>Yes</td>\n",
       "      <td>Friendly People</td>\n",
       "      <td>7790250.0</td>\n",
       "    </tr>\n",
       "    <tr>\n",
       "      <th>4</th>\n",
       "      <td>tour_1004</td>\n",
       "      <td>CHINA</td>\n",
       "      <td>1-24</td>\n",
       "      <td>NaN</td>\n",
       "      <td>1.0</td>\n",
       "      <td>0.0</td>\n",
       "      <td>Leisure and Holidays</td>\n",
       "      <td>Wildlife tourism</td>\n",
       "      <td>Travel, agent, tour operator</td>\n",
       "      <td>Independent</td>\n",
       "      <td>...</td>\n",
       "      <td>No</td>\n",
       "      <td>No</td>\n",
       "      <td>No</td>\n",
       "      <td>No</td>\n",
       "      <td>7.0</td>\n",
       "      <td>4.0</td>\n",
       "      <td>Cash</td>\n",
       "      <td>Yes</td>\n",
       "      <td>No comments</td>\n",
       "      <td>1657500.0</td>\n",
       "    </tr>\n",
       "  </tbody>\n",
       "</table>\n",
       "<p>5 rows × 23 columns</p>\n",
       "</div>"
      ],
      "text/plain": [
       "          ID         country age_group        travel_with  total_female  \\\n",
       "0     tour_0      SWIZERLAND     45-64  Friends/Relatives           1.0   \n",
       "1    tour_10  UNITED KINGDOM     25-44                NaN           1.0   \n",
       "2  tour_1000  UNITED KINGDOM     25-44              Alone           0.0   \n",
       "3  tour_1002  UNITED KINGDOM     25-44             Spouse           1.0   \n",
       "4  tour_1004           CHINA      1-24                NaN           1.0   \n",
       "\n",
       "   total_male                         purpose     main_activity  \\\n",
       "0         1.0            Leisure and Holidays  Wildlife tourism   \n",
       "1         0.0            Leisure and Holidays  Cultural tourism   \n",
       "2         1.0  Visiting Friends and Relatives  Cultural tourism   \n",
       "3         1.0            Leisure and Holidays  Wildlife tourism   \n",
       "4         0.0            Leisure and Holidays  Wildlife tourism   \n",
       "\n",
       "                    info_source tour_arrangement  ... package_transport_tz  \\\n",
       "0            Friends, relatives      Independent  ...                   No   \n",
       "1                        others      Independent  ...                   No   \n",
       "2            Friends, relatives      Independent  ...                   No   \n",
       "3  Travel, agent, tour operator     Package Tour  ...                  Yes   \n",
       "4  Travel, agent, tour operator      Independent  ...                   No   \n",
       "\n",
       "  package_sightseeing package_guided_tour package_insurance night_mainland  \\\n",
       "0                  No                  No                No           13.0   \n",
       "1                  No                  No                No           14.0   \n",
       "2                  No                  No                No            1.0   \n",
       "3                 Yes                 Yes                No           11.0   \n",
       "4                  No                  No                No            7.0   \n",
       "\n",
       "  night_zanzibar payment_mode  first_trip_tz  \\\n",
       "0            0.0         Cash             No   \n",
       "1            7.0         Cash            Yes   \n",
       "2           31.0         Cash             No   \n",
       "3            0.0         Cash            Yes   \n",
       "4            4.0         Cash            Yes   \n",
       "\n",
       "                        most_impressing total_cost  \n",
       "0                       Friendly People   674602.5  \n",
       "1  Wonderful Country, Landscape, Nature  3214906.5  \n",
       "2                  Excellent Experience  3315000.0  \n",
       "3                       Friendly People  7790250.0  \n",
       "4                           No comments  1657500.0  \n",
       "\n",
       "[5 rows x 23 columns]"
      ]
     },
     "execution_count": 3,
     "metadata": {},
     "output_type": "execute_result"
    }
   ],
   "source": [
    "df.head(5)"
   ]
  },
  {
   "cell_type": "code",
   "execution_count": 4,
   "id": "41b801b3",
   "metadata": {},
   "outputs": [
    {
     "data": {
      "text/html": [
       "<div>\n",
       "<style scoped>\n",
       "    .dataframe tbody tr th:only-of-type {\n",
       "        vertical-align: middle;\n",
       "    }\n",
       "\n",
       "    .dataframe tbody tr th {\n",
       "        vertical-align: top;\n",
       "    }\n",
       "\n",
       "    .dataframe thead th {\n",
       "        text-align: right;\n",
       "    }\n",
       "</style>\n",
       "<table border=\"1\" class=\"dataframe\">\n",
       "  <thead>\n",
       "    <tr style=\"text-align: right;\">\n",
       "      <th></th>\n",
       "      <th>count</th>\n",
       "      <th>mean</th>\n",
       "      <th>std</th>\n",
       "      <th>min</th>\n",
       "      <th>5%</th>\n",
       "      <th>50%</th>\n",
       "      <th>95%</th>\n",
       "      <th>max</th>\n",
       "    </tr>\n",
       "  </thead>\n",
       "  <tbody>\n",
       "    <tr>\n",
       "      <th>total_female</th>\n",
       "      <td>4806.0</td>\n",
       "      <td>9.267582e-01</td>\n",
       "      <td>1.288242e+00</td>\n",
       "      <td>0.0</td>\n",
       "      <td>0.0</td>\n",
       "      <td>1.0</td>\n",
       "      <td>3.0</td>\n",
       "      <td>49.0</td>\n",
       "    </tr>\n",
       "    <tr>\n",
       "      <th>total_male</th>\n",
       "      <td>4804.0</td>\n",
       "      <td>1.009575e+00</td>\n",
       "      <td>1.138865e+00</td>\n",
       "      <td>0.0</td>\n",
       "      <td>0.0</td>\n",
       "      <td>1.0</td>\n",
       "      <td>2.0</td>\n",
       "      <td>44.0</td>\n",
       "    </tr>\n",
       "    <tr>\n",
       "      <th>night_mainland</th>\n",
       "      <td>4809.0</td>\n",
       "      <td>8.488043e+00</td>\n",
       "      <td>1.042762e+01</td>\n",
       "      <td>0.0</td>\n",
       "      <td>0.0</td>\n",
       "      <td>6.0</td>\n",
       "      <td>26.0</td>\n",
       "      <td>145.0</td>\n",
       "    </tr>\n",
       "    <tr>\n",
       "      <th>night_zanzibar</th>\n",
       "      <td>4809.0</td>\n",
       "      <td>2.304429e+00</td>\n",
       "      <td>4.227080e+00</td>\n",
       "      <td>0.0</td>\n",
       "      <td>0.0</td>\n",
       "      <td>0.0</td>\n",
       "      <td>10.0</td>\n",
       "      <td>61.0</td>\n",
       "    </tr>\n",
       "    <tr>\n",
       "      <th>total_cost</th>\n",
       "      <td>4809.0</td>\n",
       "      <td>8.114389e+06</td>\n",
       "      <td>1.222490e+07</td>\n",
       "      <td>49000.0</td>\n",
       "      <td>140000.0</td>\n",
       "      <td>3397875.0</td>\n",
       "      <td>33481500.0</td>\n",
       "      <td>99532875.0</td>\n",
       "    </tr>\n",
       "  </tbody>\n",
       "</table>\n",
       "</div>"
      ],
      "text/plain": [
       "                 count          mean           std      min        5%  \\\n",
       "total_female    4806.0  9.267582e-01  1.288242e+00      0.0       0.0   \n",
       "total_male      4804.0  1.009575e+00  1.138865e+00      0.0       0.0   \n",
       "night_mainland  4809.0  8.488043e+00  1.042762e+01      0.0       0.0   \n",
       "night_zanzibar  4809.0  2.304429e+00  4.227080e+00      0.0       0.0   \n",
       "total_cost      4809.0  8.114389e+06  1.222490e+07  49000.0  140000.0   \n",
       "\n",
       "                      50%         95%         max  \n",
       "total_female          1.0         3.0        49.0  \n",
       "total_male            1.0         2.0        44.0  \n",
       "night_mainland        6.0        26.0       145.0  \n",
       "night_zanzibar        0.0        10.0        61.0  \n",
       "total_cost      3397875.0  33481500.0  99532875.0  "
      ]
     },
     "execution_count": 4,
     "metadata": {},
     "output_type": "execute_result"
    }
   ],
   "source": [
    "df.describe(percentiles=[0.05,0.95]).T\n"
   ]
  },
  {
   "cell_type": "markdown",
   "id": "15304015",
   "metadata": {},
   "source": [
    "The max of the data is very far away from the 95% . It is a sign of outliers and to improve our model, we need to handle them. I'll use the capping technique"
   ]
  },
  {
   "cell_type": "code",
   "execution_count": 5,
   "id": "c15b7e8c",
   "metadata": {},
   "outputs": [],
   "source": [
    "# Lets try capping the outliers before coming back to check which columns have such values\n",
    "import warnings\n",
    "warnings.filterwarnings(\"ignore\")\n",
    "\n",
    "df['total_female'].loc[df['total_female'] > 3.000000]  = 4.000000\n",
    "df['total_male'].loc[df['total_male'] > 2.000000]  = 3.000000\n",
    "df['night_mainland'].loc[df['night_mainland'] > 28.000000]  = 30.000000\n",
    "df['night_zanzibar'].loc[df['night_zanzibar'] > 10.000000]  = 11.000000"
   ]
  },
  {
   "cell_type": "code",
   "execution_count": 6,
   "id": "52194ad0",
   "metadata": {},
   "outputs": [
    {
     "name": "stdout",
     "output_type": "stream",
     "text": [
      "<class 'pandas.core.frame.DataFrame'>\n",
      "RangeIndex: 4809 entries, 0 to 4808\n",
      "Data columns (total 23 columns):\n",
      " #   Column                 Non-Null Count  Dtype  \n",
      "---  ------                 --------------  -----  \n",
      " 0   ID                     4809 non-null   object \n",
      " 1   country                4809 non-null   object \n",
      " 2   age_group              4809 non-null   object \n",
      " 3   travel_with            3695 non-null   object \n",
      " 4   total_female           4806 non-null   float64\n",
      " 5   total_male             4804 non-null   float64\n",
      " 6   purpose                4809 non-null   object \n",
      " 7   main_activity          4809 non-null   object \n",
      " 8   info_source            4809 non-null   object \n",
      " 9   tour_arrangement       4809 non-null   object \n",
      " 10  package_transport_int  4809 non-null   object \n",
      " 11  package_accomodation   4809 non-null   object \n",
      " 12  package_food           4809 non-null   object \n",
      " 13  package_transport_tz   4809 non-null   object \n",
      " 14  package_sightseeing    4809 non-null   object \n",
      " 15  package_guided_tour    4809 non-null   object \n",
      " 16  package_insurance      4809 non-null   object \n",
      " 17  night_mainland         4809 non-null   float64\n",
      " 18  night_zanzibar         4809 non-null   float64\n",
      " 19  payment_mode           4809 non-null   object \n",
      " 20  first_trip_tz          4809 non-null   object \n",
      " 21  most_impressing        4496 non-null   object \n",
      " 22  total_cost             4809 non-null   float64\n",
      "dtypes: float64(5), object(18)\n",
      "memory usage: 864.2+ KB\n"
     ]
    }
   ],
   "source": [
    "df.info()"
   ]
  },
  {
   "cell_type": "code",
   "execution_count": 7,
   "id": "d4aa793a",
   "metadata": {},
   "outputs": [],
   "source": [
    "variables=pd.read_csv('TVariableDefinitions.csv')"
   ]
  },
  {
   "cell_type": "code",
   "execution_count": 8,
   "id": "65479691",
   "metadata": {},
   "outputs": [
    {
     "data": {
      "text/html": [
       "<div>\n",
       "<style scoped>\n",
       "    .dataframe tbody tr th:only-of-type {\n",
       "        vertical-align: middle;\n",
       "    }\n",
       "\n",
       "    .dataframe tbody tr th {\n",
       "        vertical-align: top;\n",
       "    }\n",
       "\n",
       "    .dataframe thead th {\n",
       "        text-align: right;\n",
       "    }\n",
       "</style>\n",
       "<table border=\"1\" class=\"dataframe\">\n",
       "  <thead>\n",
       "    <tr style=\"text-align: right;\">\n",
       "      <th></th>\n",
       "      <th>Column Name</th>\n",
       "      <th>Definition</th>\n",
       "    </tr>\n",
       "  </thead>\n",
       "  <tbody>\n",
       "    <tr>\n",
       "      <th>0</th>\n",
       "      <td>id</td>\n",
       "      <td>Unique identifier for each tourist</td>\n",
       "    </tr>\n",
       "    <tr>\n",
       "      <th>1</th>\n",
       "      <td>country</td>\n",
       "      <td>The country a tourist coming  from.</td>\n",
       "    </tr>\n",
       "    <tr>\n",
       "      <th>2</th>\n",
       "      <td>age_group</td>\n",
       "      <td>The age group of a tourist.</td>\n",
       "    </tr>\n",
       "    <tr>\n",
       "      <th>3</th>\n",
       "      <td>travel_with</td>\n",
       "      <td>The relation of people a tourist travel with t...</td>\n",
       "    </tr>\n",
       "    <tr>\n",
       "      <th>4</th>\n",
       "      <td>total_female</td>\n",
       "      <td>Total number of females</td>\n",
       "    </tr>\n",
       "    <tr>\n",
       "      <th>5</th>\n",
       "      <td>total_male</td>\n",
       "      <td>Total number of males</td>\n",
       "    </tr>\n",
       "    <tr>\n",
       "      <th>6</th>\n",
       "      <td>purpose</td>\n",
       "      <td>The purpose of visiting  Tanzania</td>\n",
       "    </tr>\n",
       "    <tr>\n",
       "      <th>7</th>\n",
       "      <td>main_activity</td>\n",
       "      <td>The main activity of tourism in Tanzania</td>\n",
       "    </tr>\n",
       "    <tr>\n",
       "      <th>8</th>\n",
       "      <td>infor_source</td>\n",
       "      <td>The source of information about tourism in Tan...</td>\n",
       "    </tr>\n",
       "    <tr>\n",
       "      <th>9</th>\n",
       "      <td>tour_arrangment</td>\n",
       "      <td>The arrangment of visiting Tanzania</td>\n",
       "    </tr>\n",
       "    <tr>\n",
       "      <th>10</th>\n",
       "      <td>package_transport_int</td>\n",
       "      <td>If the tour package include international tran...</td>\n",
       "    </tr>\n",
       "    <tr>\n",
       "      <th>11</th>\n",
       "      <td>package_accomodation</td>\n",
       "      <td>If the tour package include accommodation service</td>\n",
       "    </tr>\n",
       "    <tr>\n",
       "      <th>12</th>\n",
       "      <td>package_food</td>\n",
       "      <td>If the tour package include food service</td>\n",
       "    </tr>\n",
       "    <tr>\n",
       "      <th>13</th>\n",
       "      <td>package_transport_tz</td>\n",
       "      <td>If the tour package include transport service ...</td>\n",
       "    </tr>\n",
       "    <tr>\n",
       "      <th>14</th>\n",
       "      <td>package_sightseeing</td>\n",
       "      <td>If the tour package include sightseeing service</td>\n",
       "    </tr>\n",
       "    <tr>\n",
       "      <th>15</th>\n",
       "      <td>package_guided_tour</td>\n",
       "      <td>If the tour package include tour guide</td>\n",
       "    </tr>\n",
       "    <tr>\n",
       "      <th>16</th>\n",
       "      <td>package_insurance</td>\n",
       "      <td>if the tour package include insurance service</td>\n",
       "    </tr>\n",
       "    <tr>\n",
       "      <th>17</th>\n",
       "      <td>night_mainland</td>\n",
       "      <td>Number of nights a tourist spent in Tanzania m...</td>\n",
       "    </tr>\n",
       "    <tr>\n",
       "      <th>18</th>\n",
       "      <td>night_zanzibar</td>\n",
       "      <td>Number of nights a tourist spent in Zanzibar</td>\n",
       "    </tr>\n",
       "    <tr>\n",
       "      <th>19</th>\n",
       "      <td>payment_mode</td>\n",
       "      <td>The mode of payment for tourism service</td>\n",
       "    </tr>\n",
       "    <tr>\n",
       "      <th>20</th>\n",
       "      <td>first_trip_tz</td>\n",
       "      <td>If it was a first  trip to Tanzania</td>\n",
       "    </tr>\n",
       "    <tr>\n",
       "      <th>21</th>\n",
       "      <td>most_impressing</td>\n",
       "      <td>what impressed a toursit in Tanzania</td>\n",
       "    </tr>\n",
       "    <tr>\n",
       "      <th>22</th>\n",
       "      <td>total_cost</td>\n",
       "      <td>The total tourist expenditure  in TZS(currency)</td>\n",
       "    </tr>\n",
       "  </tbody>\n",
       "</table>\n",
       "</div>"
      ],
      "text/plain": [
       "              Column Name                                         Definition\n",
       "0                      id                 Unique identifier for each tourist\n",
       "1                 country                The country a tourist coming  from.\n",
       "2               age_group                        The age group of a tourist.\n",
       "3             travel_with  The relation of people a tourist travel with t...\n",
       "4            total_female                            Total number of females\n",
       "5              total_male                              Total number of males\n",
       "6                 purpose                  The purpose of visiting  Tanzania\n",
       "7           main_activity           The main activity of tourism in Tanzania\n",
       "8            infor_source  The source of information about tourism in Tan...\n",
       "9         tour_arrangment                The arrangment of visiting Tanzania\n",
       "10  package_transport_int  If the tour package include international tran...\n",
       "11   package_accomodation  If the tour package include accommodation service\n",
       "12           package_food           If the tour package include food service\n",
       "13   package_transport_tz  If the tour package include transport service ...\n",
       "14    package_sightseeing    If the tour package include sightseeing service\n",
       "15    package_guided_tour             If the tour package include tour guide\n",
       "16      package_insurance      if the tour package include insurance service\n",
       "17         night_mainland  Number of nights a tourist spent in Tanzania m...\n",
       "18         night_zanzibar       Number of nights a tourist spent in Zanzibar\n",
       "19           payment_mode            The mode of payment for tourism service\n",
       "20          first_trip_tz                If it was a first  trip to Tanzania\n",
       "21        most_impressing               what impressed a toursit in Tanzania\n",
       "22             total_cost    The total tourist expenditure  in TZS(currency)"
      ]
     },
     "execution_count": 8,
     "metadata": {},
     "output_type": "execute_result"
    }
   ],
   "source": [
    "variables"
   ]
  },
  {
   "cell_type": "markdown",
   "id": "693308bb",
   "metadata": {},
   "source": [
    "# EDA"
   ]
  },
  {
   "cell_type": "markdown",
   "id": "0107c10c",
   "metadata": {},
   "source": [
    "Top countries where tourists come from"
   ]
  },
  {
   "cell_type": "code",
   "execution_count": 9,
   "id": "ec03a6b3",
   "metadata": {},
   "outputs": [
    {
     "data": {
      "text/plain": [
       "UNITED STATES OF AMERICA    695\n",
       "UNITED KINGDOM              533\n",
       "ITALY                       393\n",
       "FRANCE                      280\n",
       "ZIMBABWE                    274\n",
       "SOUTH AFRICA                235\n",
       "KENYA                       235\n",
       "GERMANY                     223\n",
       "ZAMBIA                      191\n",
       "AUSTRALIA                   186\n",
       "Name: country, dtype: int64"
      ]
     },
     "execution_count": 9,
     "metadata": {},
     "output_type": "execute_result"
    }
   ],
   "source": [
    "df['country'].value_counts().head(10)"
   ]
  },
  {
   "cell_type": "markdown",
   "id": "e8c03185",
   "metadata": {},
   "source": [
    "Who accompanies the tourist the most"
   ]
  },
  {
   "cell_type": "code",
   "execution_count": 10,
   "id": "fc5aa802",
   "metadata": {},
   "outputs": [
    {
     "data": {
      "text/plain": [
       "Alone                  1265\n",
       "Spouse                 1005\n",
       "Friends/Relatives       895\n",
       "Spouse and Children     368\n",
       "Children                162\n",
       "Name: travel_with, dtype: int64"
      ]
     },
     "execution_count": 10,
     "metadata": {},
     "output_type": "execute_result"
    }
   ],
   "source": [
    "df['travel_with'].value_counts()"
   ]
  },
  {
   "cell_type": "markdown",
   "id": "2cffc65b",
   "metadata": {},
   "source": [
    "Gender distribution"
   ]
  },
  {
   "cell_type": "code",
   "execution_count": 11,
   "id": "fb89867f",
   "metadata": {},
   "outputs": [
    {
     "data": {
      "text/plain": [
       "<AxesSubplot:xlabel='total_female', ylabel='count'>"
      ]
     },
     "execution_count": 11,
     "metadata": {},
     "output_type": "execute_result"
    },
    {
     "data": {
      "image/png": "[encoded data removed]",
      "text/plain": [
       "<Figure size 640x480 with 1 Axes>"
      ]
     },
     "metadata": {},
     "output_type": "display_data"
    }
   ],
   "source": [
    "sns.countplot(x='total_female',data=df)"
   ]
  },
  {
   "cell_type": "code",
   "execution_count": 12,
   "id": "98adf246",
   "metadata": {},
   "outputs": [
    {
     "data": {
      "text/plain": [
       "<AxesSubplot:xlabel='total_male', ylabel='count'>"
      ]
     },
     "execution_count": 12,
     "metadata": {},
     "output_type": "execute_result"
    },
    {
     "data": {
      "image/png": "[encoded data removed]",
      "text/plain": [
       "<Figure size 640x480 with 1 Axes>"
      ]
     },
     "metadata": {},
     "output_type": "display_data"
    }
   ],
   "source": [
    "sns.countplot(x='total_male',data=df)"
   ]
  },
  {
   "cell_type": "code",
   "execution_count": 13,
   "id": "01664297",
   "metadata": {},
   "outputs": [
    {
     "data": {
      "text/plain": [
       "4601.0"
      ]
     },
     "execution_count": 13,
     "metadata": {},
     "output_type": "execute_result"
    }
   ],
   "source": [
    "df['total_male'].sum()\n",
    "#more males than females"
   ]
  },
  {
   "cell_type": "code",
   "execution_count": 14,
   "id": "84669bd8",
   "metadata": {},
   "outputs": [
    {
     "data": {
      "text/plain": [
       "4224.0"
      ]
     },
     "execution_count": 14,
     "metadata": {},
     "output_type": "execute_result"
    }
   ],
   "source": [
    "df['total_female'].sum()"
   ]
  },
  {
   "cell_type": "markdown",
   "id": "35fd8f79",
   "metadata": {},
   "source": [
    "Understanding tourists purpose of visit-\n",
    "most tourists come for leisure"
   ]
  },
  {
   "cell_type": "code",
   "execution_count": 15,
   "id": "65f1ad88",
   "metadata": {},
   "outputs": [
    {
     "data": {
      "text/plain": [
       "Leisure and Holidays              2840\n",
       "Business                           671\n",
       "Visiting Friends and Relatives     633\n",
       "Meetings and Conference            312\n",
       "Volunteering                       138\n",
       "Other                              128\n",
       "Scientific and Academic             87\n",
       "Name: purpose, dtype: int64"
      ]
     },
     "execution_count": 15,
     "metadata": {},
     "output_type": "execute_result"
    }
   ],
   "source": [
    "df['purpose'].value_counts()"
   ]
  },
  {
   "cell_type": "code",
   "execution_count": 16,
   "id": "8e28970f",
   "metadata": {},
   "outputs": [
    {
     "data": {
      "text/plain": [
       "(array([0, 1, 2, 3, 4, 5, 6]),\n",
       " [Text(0, 0, 'Leisure and Holidays'),\n",
       "  Text(1, 0, 'Visiting Friends and Relatives'),\n",
       "  Text(2, 0, 'Business'),\n",
       "  Text(3, 0, 'Meetings and Conference'),\n",
       "  Text(4, 0, 'Volunteering'),\n",
       "  Text(5, 0, 'Scientific and Academic'),\n",
       "  Text(6, 0, 'Other')])"
      ]
     },
     "execution_count": 16,
     "metadata": {},
     "output_type": "execute_result"
    },
    {
     "data": {
      "image/png": "[encoded data removed]",
      "text/plain": [
       "<Figure size 640x480 with 1 Axes>"
      ]
     },
     "metadata": {},
     "output_type": "display_data"
    }
   ],
   "source": [
    "sns.countplot(x='purpose',data=df)\n",
    "plt.xticks(rotation=45)"
   ]
  },
  {
   "cell_type": "markdown",
   "id": "654413d2",
   "metadata": {},
   "source": [
    "Main activity is wildlife tourism,Beach tourism"
   ]
  },
  {
   "cell_type": "code",
   "execution_count": 17,
   "id": "5cafc96f",
   "metadata": {},
   "outputs": [
    {
     "name": "stdout",
     "output_type": "stream",
     "text": [
      "Wildlife tourism            2259\n",
      "Beach tourism               1025\n",
      "Hunting tourism              457\n",
      "Conference tourism           367\n",
      "Cultural tourism             359\n",
      "Mountain climbing            234\n",
      "business                      58\n",
      "Bird watching                 37\n",
      "Diving and Sport Fishing      13\n",
      "Name: main_activity, dtype: int64\n"
     ]
    },
    {
     "data": {
      "text/plain": [
       "Text(0.5, 0, 'main_activity')"
      ]
     },
     "execution_count": 17,
     "metadata": {},
     "output_type": "execute_result"
    },
    {
     "data": {
      "image/png": "[encoded data removed]",
      "text/plain": [
       "<Figure size 1000x500 with 1 Axes>"
      ]
     },
     "metadata": {},
     "output_type": "display_data"
    }
   ],
   "source": [
    "print(df['main_activity'].value_counts())\n",
    "plt.figure(figsize=(10,5))\n",
    "df['main_activity'].value_counts(normalize=True).plot(kind='bar')\n",
    "plt.ylabel('counts')\n",
    "plt.xlabel('main_activity')"
   ]
  },
  {
   "cell_type": "code",
   "execution_count": 18,
   "id": "d014944b",
   "metadata": {},
   "outputs": [
    {
     "data": {
      "text/plain": [
       "<function matplotlib.pyplot.show(close=None, block=None)>"
      ]
     },
     "execution_count": 18,
     "metadata": {},
     "output_type": "execute_result"
    },
    {
     "data": {
      "image/png": "[encoded data removed]",
      "text/plain": [
       "<Figure size 640x480 with 1 Axes>"
      ]
     },
     "metadata": {},
     "output_type": "display_data"
    }
   ],
   "source": [
    "category_counts=df['main_activity'].value_counts()\n",
    "plt.pie(category_counts, labels=category_counts.index, autopct='%1.1f%%')\n",
    "plt.show\n"
   ]
  },
  {
   "cell_type": "markdown",
   "id": "7854c49d",
   "metadata": {},
   "source": [
    "How did they hear about places they are visiting.\n",
    "this info can be used by the marketing team to know which channel is bringong more tourists"
   ]
  },
  {
   "cell_type": "code",
   "execution_count": 19,
   "id": "2c9c5ece",
   "metadata": {},
   "outputs": [
    {
     "data": {
      "text/plain": [
       "Travel, agent, tour operator      1913\n",
       "Friends, relatives                1635\n",
       "others                             490\n",
       "Newspaper, magazines,brochures     359\n",
       "Radio, TV, Web                     249\n",
       "Trade fair                          77\n",
       "Tanzania Mission Abroad             68\n",
       "inflight magazines                  18\n",
       "Name: info_source, dtype: int64"
      ]
     },
     "execution_count": 19,
     "metadata": {},
     "output_type": "execute_result"
    }
   ],
   "source": [
    "df['info_source'].value_counts()"
   ]
  },
  {
   "cell_type": "code",
   "execution_count": 20,
   "id": "7ace24b5",
   "metadata": {},
   "outputs": [
    {
     "data": {
      "text/plain": [
       "Friendly People                         1541\n",
       " Wildlife                               1038\n",
       "No comments                              743\n",
       "Wonderful Country, Landscape, Nature     507\n",
       "Good service                             365\n",
       "Excellent Experience                     271\n",
       "Satisfies and Hope Come Back              31\n",
       "Name: most_impressing, dtype: int64"
      ]
     },
     "execution_count": 20,
     "metadata": {},
     "output_type": "execute_result"
    }
   ],
   "source": [
    "df['most_impressing'].value_counts()"
   ]
  },
  {
   "cell_type": "code",
   "execution_count": 21,
   "id": "a1995e42",
   "metadata": {},
   "outputs": [
    {
     "name": "stdout",
     "output_type": "stream",
     "text": [
      "Travel, agent, tour operator      1913\n",
      "Friends, relatives                1635\n",
      "others                             490\n",
      "Newspaper, magazines,brochures     359\n",
      "Radio, TV, Web                     249\n",
      "Trade fair                          77\n",
      "Tanzania Mission Abroad             68\n",
      "inflight magazines                  18\n",
      "Name: info_source, dtype: int64\n"
     ]
    },
    {
     "data": {
      "text/plain": [
       "Text(0.5, 0, 'info_source')"
      ]
     },
     "execution_count": 21,
     "metadata": {},
     "output_type": "execute_result"
    },
    {
     "data": {
      "image/png": "[encoded data removed]",
      "text/plain": [
       "<Figure size 1000x500 with 1 Axes>"
      ]
     },
     "metadata": {},
     "output_type": "display_data"
    }
   ],
   "source": [
    "print(df['info_source'].value_counts())\n",
    "plt.figure(figsize=(10,5))\n",
    "df['info_source'].value_counts(normalize=True).plot(kind='bar')\n",
    "plt.ylabel('counts')\n",
    "plt.xlabel('info_source')"
   ]
  },
  {
   "cell_type": "code",
   "execution_count": 22,
   "id": "664cb358",
   "metadata": {},
   "outputs": [
    {
     "name": "stdout",
     "output_type": "stream",
     "text": [
      "Independent     2570\n",
      "Package Tour    2239\n",
      "Name: tour_arrangement, dtype: int64\n"
     ]
    },
    {
     "data": {
      "text/plain": [
       "Text(0.5, 0, 'tour_arrangement')"
      ]
     },
     "execution_count": 22,
     "metadata": {},
     "output_type": "execute_result"
    },
    {
     "data": {
      "image/png": "[encoded data removed]",
      "text/plain": [
       "<Figure size 1000x500 with 1 Axes>"
      ]
     },
     "metadata": {},
     "output_type": "display_data"
    }
   ],
   "source": [
    "print(df['tour_arrangement'].value_counts())\n",
    "plt.figure(figsize=(10,5))\n",
    "df['tour_arrangement'].value_counts(normalize=True).plot(kind='bar')\n",
    "plt.ylabel('counts')\n",
    "plt.xlabel('tour_arrangement')"
   ]
  },
  {
   "cell_type": "code",
   "execution_count": 23,
   "id": "8e61328b",
   "metadata": {},
   "outputs": [
    {
     "name": "stdout",
     "output_type": "stream",
     "text": [
      "No     3357\n",
      "Yes    1452\n",
      "Name: package_transport_int, dtype: int64\n"
     ]
    },
    {
     "data": {
      "text/plain": [
       "Text(0.5, 0, 'package_transport_int')"
      ]
     },
     "execution_count": 23,
     "metadata": {},
     "output_type": "execute_result"
    },
    {
     "data": {
      "image/png": "[encoded data removed]",
      "text/plain": [
       "<Figure size 1000x500 with 1 Axes>"
      ]
     },
     "metadata": {},
     "output_type": "display_data"
    }
   ],
   "source": [
    "print(df['package_transport_int'].value_counts())\n",
    "plt.figure(figsize=(10,5))\n",
    "df['package_transport_int'].value_counts(normalize=True).plot(kind='bar')\n",
    "plt.ylabel('counts')\n",
    "plt.xlabel('package_transport_int')"
   ]
  },
  {
   "cell_type": "code",
   "execution_count": 24,
   "id": "e9ecdac1",
   "metadata": {},
   "outputs": [
    {
     "name": "stdout",
     "output_type": "stream",
     "text": [
      "No     2919\n",
      "Yes    1890\n",
      "Name: package_transport_tz, dtype: int64\n"
     ]
    },
    {
     "data": {
      "text/plain": [
       "Text(0.5, 0, 'package_transport_tz')"
      ]
     },
     "execution_count": 24,
     "metadata": {},
     "output_type": "execute_result"
    },
    {
     "data": {
      "image/png": "[encoded data removed]",
      "text/plain": [
       "<Figure size 1000x500 with 1 Axes>"
      ]
     },
     "metadata": {},
     "output_type": "display_data"
    }
   ],
   "source": [
    "print(df['package_transport_tz'].value_counts())\n",
    "plt.figure(figsize=(10,5))\n",
    "df['package_transport_tz'].value_counts(normalize=True).plot(kind='bar')\n",
    "plt.ylabel('counts')\n",
    "plt.xlabel('package_transport_tz')"
   ]
  },
  {
   "cell_type": "code",
   "execution_count": 25,
   "id": "6eef9bec",
   "metadata": {},
   "outputs": [
    {
     "name": "stdout",
     "output_type": "stream",
     "text": [
      "No     3319\n",
      "Yes    1490\n",
      "Name: package_sightseeing, dtype: int64\n"
     ]
    },
    {
     "data": {
      "text/plain": [
       "Text(0.5, 0, 'package_sightseeing')"
      ]
     },
     "execution_count": 25,
     "metadata": {},
     "output_type": "execute_result"
    },
    {
     "data": {
      "image/png": "[encoded data removed]",
      "text/plain": [
       "<Figure size 1000x500 with 1 Axes>"
      ]
     },
     "metadata": {},
     "output_type": "display_data"
    }
   ],
   "source": [
    "print(df['package_sightseeing'].value_counts())\n",
    "plt.figure(figsize=(10,5))\n",
    "df['package_sightseeing'].value_counts(normalize=True).plot(kind='bar')\n",
    "plt.ylabel('counts')\n",
    "plt.xlabel('package_sightseeing')"
   ]
  },
  {
   "cell_type": "code",
   "execution_count": 26,
   "id": "b8ffceb6",
   "metadata": {},
   "outputs": [
    {
     "name": "stdout",
     "output_type": "stream",
     "text": [
      "No     3259\n",
      "Yes    1550\n",
      "Name: package_guided_tour, dtype: int64\n"
     ]
    },
    {
     "data": {
      "text/plain": [
       "Text(0.5, 0, 'package_guided_tour')"
      ]
     },
     "execution_count": 26,
     "metadata": {},
     "output_type": "execute_result"
    },
    {
     "data": {
      "image/png": "[encoded data removed]",
      "text/plain": [
       "<Figure size 1000x500 with 1 Axes>"
      ]
     },
     "metadata": {},
     "output_type": "display_data"
    }
   ],
   "source": [
    "print(df['package_guided_tour'].value_counts())\n",
    "plt.figure(figsize=(10,5))\n",
    "df['package_guided_tour'].value_counts(normalize=True).plot(kind='bar')\n",
    "plt.ylabel('counts')\n",
    "plt.xlabel('package_guided_tour')"
   ]
  },
  {
   "cell_type": "code",
   "execution_count": 27,
   "id": "92bd0ec3",
   "metadata": {},
   "outputs": [
    {
     "name": "stdout",
     "output_type": "stream",
     "text": [
      "No     4079\n",
      "Yes     730\n",
      "Name: package_insurance, dtype: int64\n"
     ]
    },
    {
     "data": {
      "text/plain": [
       "Text(0.5, 0, 'package_insurance')"
      ]
     },
     "execution_count": 27,
     "metadata": {},
     "output_type": "execute_result"
    },
    {
     "data": {
      "image/png": "[encoded data removed]",
      "text/plain": [
       "<Figure size 1000x500 with 1 Axes>"
      ]
     },
     "metadata": {},
     "output_type": "display_data"
    }
   ],
   "source": [
    "print(df['package_insurance'].value_counts())\n",
    "plt.figure(figsize=(10,5))\n",
    "df['package_insurance'].value_counts(normalize=True).plot(kind='bar')\n",
    "plt.ylabel('counts')\n",
    "plt.xlabel('package_insurance')"
   ]
  },
  {
   "cell_type": "code",
   "execution_count": 28,
   "id": "193526fe",
   "metadata": {},
   "outputs": [
    {
     "name": "stdout",
     "output_type": "stream",
     "text": [
      "Cash                 4172\n",
      "Credit Card           622\n",
      "Other                   8\n",
      "Travellers Cheque       7\n",
      "Name: payment_mode, dtype: int64\n"
     ]
    },
    {
     "data": {
      "text/plain": [
       "Text(0.5, 0, 'payment_mode')"
      ]
     },
     "execution_count": 28,
     "metadata": {},
     "output_type": "execute_result"
    },
    {
     "data": {
      "image/png": "[encoded data removed]",
      "text/plain": [
       "<Figure size 1000x500 with 1 Axes>"
      ]
     },
     "metadata": {},
     "output_type": "display_data"
    }
   ],
   "source": [
    "print(df['payment_mode'].value_counts())\n",
    "plt.figure(figsize=(10,5))\n",
    "df['payment_mode'].value_counts(normalize=True).plot(kind='bar')\n",
    "plt.ylabel('counts')\n",
    "plt.xlabel('payment_mode')"
   ]
  },
  {
   "cell_type": "code",
   "execution_count": 29,
   "id": "3599659e",
   "metadata": {},
   "outputs": [
    {
     "name": "stdout",
     "output_type": "stream",
     "text": [
      "Yes    3243\n",
      "No     1566\n",
      "Name: first_trip_tz, dtype: int64\n"
     ]
    },
    {
     "data": {
      "text/plain": [
       "Text(0.5, 0, 'first_trip_tz')"
      ]
     },
     "execution_count": 29,
     "metadata": {},
     "output_type": "execute_result"
    },
    {
     "data": {
      "image/png": "[encoded data removed]",
      "text/plain": [
       "<Figure size 1000x500 with 1 Axes>"
      ]
     },
     "metadata": {},
     "output_type": "display_data"
    }
   ],
   "source": [
    "print(df['first_trip_tz'].value_counts())\n",
    "plt.figure(figsize=(10,5))\n",
    "df['first_trip_tz'].value_counts(normalize=True).plot(kind='bar')\n",
    "plt.ylabel('counts')\n",
    "plt.xlabel('first_trip_tz')"
   ]
  },
  {
   "cell_type": "code",
   "execution_count": 30,
   "id": "a9d93c52",
   "metadata": {},
   "outputs": [
    {
     "name": "stdout",
     "output_type": "stream",
     "text": [
      "Friendly People                         1541\n",
      " Wildlife                               1038\n",
      "No comments                              743\n",
      "Wonderful Country, Landscape, Nature     507\n",
      "Good service                             365\n",
      "Excellent Experience                     271\n",
      "Satisfies and Hope Come Back              31\n",
      "Name: most_impressing, dtype: int64\n"
     ]
    },
    {
     "data": {
      "text/plain": [
       "Text(0.5, 0, 'most_impressing')"
      ]
     },
     "execution_count": 30,
     "metadata": {},
     "output_type": "execute_result"
    },
    {
     "data": {
      "image/png": "[encoded data removed]",
      "text/plain": [
       "<Figure size 1000x500 with 1 Axes>"
      ]
     },
     "metadata": {},
     "output_type": "display_data"
    }
   ],
   "source": [
    "print(df['most_impressing'].value_counts())\n",
    "plt.figure(figsize=(10,5))\n",
    "df['most_impressing'].value_counts(normalize=True).plot(kind='bar')\n",
    "plt.ylabel('counts')\n",
    "plt.xlabel('most_impressing')"
   ]
  },
  {
   "cell_type": "markdown",
   "id": "e0c26f87",
   "metadata": {},
   "source": [
    "# Feature Engineering"
   ]
  },
  {
   "cell_type": "code",
   "execution_count": 31,
   "id": "47623788",
   "metadata": {},
   "outputs": [
    {
     "data": {
      "text/plain": [
       "Index(['ID', 'country', 'age_group', 'travel_with', 'total_female',\n",
       "       'total_male', 'purpose', 'main_activity', 'info_source',\n",
       "       'tour_arrangement', 'package_transport_int', 'package_accomodation',\n",
       "       'package_food', 'package_transport_tz', 'package_sightseeing',\n",
       "       'package_guided_tour', 'package_insurance', 'night_mainland',\n",
       "       'night_zanzibar', 'payment_mode', 'first_trip_tz', 'most_impressing',\n",
       "       'total_cost'],\n",
       "      dtype='object')"
      ]
     },
     "execution_count": 31,
     "metadata": {},
     "output_type": "execute_result"
    }
   ],
   "source": [
    "df.columns"
   ]
  },
  {
   "cell_type": "code",
   "execution_count": 32,
   "id": "44a83557",
   "metadata": {},
   "outputs": [
    {
     "data": {
      "text/plain": [
       "False"
      ]
     },
     "execution_count": 32,
     "metadata": {},
     "output_type": "execute_result"
    }
   ],
   "source": [
    "test.duplicated().any()\n",
    "#no duplicates in the test set"
   ]
  },
  {
   "cell_type": "code",
   "execution_count": 33,
   "id": "ec3ce77a",
   "metadata": {},
   "outputs": [
    {
     "data": {
      "text/plain": [
       "False"
      ]
     },
     "execution_count": 33,
     "metadata": {},
     "output_type": "execute_result"
    }
   ],
   "source": [
    "df.duplicated().any()\n",
    "#no duplicates"
   ]
  },
  {
   "cell_type": "code",
   "execution_count": 34,
   "id": "dd3e3a80",
   "metadata": {},
   "outputs": [
    {
     "data": {
      "text/plain": [
       "ID                          0\n",
       "country                     0\n",
       "age_group                   0\n",
       "travel_with              1114\n",
       "total_female                3\n",
       "total_male                  5\n",
       "purpose                     0\n",
       "main_activity               0\n",
       "info_source                 0\n",
       "tour_arrangement            0\n",
       "package_transport_int       0\n",
       "package_accomodation        0\n",
       "package_food                0\n",
       "package_transport_tz        0\n",
       "package_sightseeing         0\n",
       "package_guided_tour         0\n",
       "package_insurance           0\n",
       "night_mainland              0\n",
       "night_zanzibar              0\n",
       "payment_mode                0\n",
       "first_trip_tz               0\n",
       "most_impressing           313\n",
       "total_cost                  0\n",
       "dtype: int64"
      ]
     },
     "execution_count": 34,
     "metadata": {},
     "output_type": "execute_result"
    }
   ],
   "source": [
    "df.isnull().sum()"
   ]
  },
  {
   "cell_type": "markdown",
   "id": "e6bcf83f",
   "metadata": {},
   "source": [
    "Scaling categorical columns"
   ]
  },
  {
   "cell_type": "code",
   "execution_count": 35,
   "id": "bb17df35",
   "metadata": {},
   "outputs": [],
   "source": [
    "#Encoding Country column better-like african countries\n",
    "#is_African = []\n",
    "#african = ['SOUTH AFRICA', 'NIGERIA', 'RWANDA', 'MOZAMBIQUE', 'KENYA', 'ALGERIA', 'EGYPT','MALAWI', \n",
    "           ##'UGANDA', 'ZIMBABWE', 'ZAMBIA', 'CONGO', 'MAURITIUS', 'DRC', 'TUNISIA', 'ETHIOPIA','BURUNDI',\n",
    "           #'GHANA', 'NIGER', 'COMORO', 'ANGOLA', 'SUDAN', 'NAMIBIA', 'LESOTHO', 'IVORY COAST', 'MADAGASCAR',\n",
    "           #'DJIBOUT', 'MORROCO', 'BOTSWANA', 'LIBERIA', 'GUINEA', 'SOMALI']\n",
    "\n",
    "#for country in df['country']:\n",
    "  #if country in african:\n",
    "   # is_African.append(True)\n",
    " # else:\n",
    "   # is_African.append(False)\n",
    "\n",
    "#df['is_african'] = is_African\n"
   ]
  },
  {
   "cell_type": "code",
   "execution_count": 36,
   "id": "7819770f",
   "metadata": {},
   "outputs": [],
   "source": [
    "#df['is_african']"
   ]
  },
  {
   "cell_type": "code",
   "execution_count": 37,
   "id": "24601662",
   "metadata": {},
   "outputs": [
    {
     "name": "stdout",
     "output_type": "stream",
     "text": [
      "        ID  country  age_group  travel_with  total_female  total_male  \\\n",
      "0        0       89          2            2           1.0         1.0   \n",
      "1        1       99          1            5           1.0         0.0   \n",
      "2        2       99          1            0           0.0         1.0   \n",
      "3        3       99          1            3           1.0         1.0   \n",
      "4        4       13          0            5           1.0         0.0   \n",
      "...    ...      ...        ...          ...           ...         ...   \n",
      "4804  4804       95          2            0           0.0         1.0   \n",
      "4805  4805      100          1            3           1.0         1.0   \n",
      "4806  4806       64          0            5           1.0         0.0   \n",
      "4807  4807       83          1            2           1.0         1.0   \n",
      "4808  4808       99          1            3           1.0         1.0   \n",
      "\n",
      "      purpose  main_activity  info_source  tour_arrangement  ...  \\\n",
      "0           1              7            0                 0  ...   \n",
      "1           1              3            7                 0  ...   \n",
      "2           5              3            0                 0  ...   \n",
      "3           1              7            5                 1  ...   \n",
      "4           1              7            5                 0  ...   \n",
      "...       ...            ...          ...               ...  ...   \n",
      "4804        0              5            0                 0  ...   \n",
      "4805        1              7            5                 1  ...   \n",
      "4806        1              7            7                 0  ...   \n",
      "4807        0              0            5                 0  ...   \n",
      "4808        1              7            5                 1  ...   \n",
      "\n",
      "      package_transport_tz  package_sightseeing  package_guided_tour  \\\n",
      "0                        0                    0                    0   \n",
      "1                        0                    0                    0   \n",
      "2                        0                    0                    0   \n",
      "3                        1                    1                    1   \n",
      "4                        0                    0                    0   \n",
      "...                    ...                  ...                  ...   \n",
      "4804                     0                    0                    0   \n",
      "4805                     1                    1                    1   \n",
      "4806                     0                    0                    0   \n",
      "4807                     0                    0                    0   \n",
      "4808                     1                    1                    1   \n",
      "\n",
      "      package_insurance  night_mainland  night_zanzibar  payment_mode  \\\n",
      "0                     0            13.0             0.0             0   \n",
      "1                     0            14.0             7.0             0   \n",
      "2                     0             1.0            11.0             0   \n",
      "3                     0            11.0             0.0             0   \n",
      "4                     0             7.0             4.0             0   \n",
      "...                 ...             ...             ...           ...   \n",
      "4804                  0             2.0             0.0             1   \n",
      "4805                  1            11.0             0.0             0   \n",
      "4806                  0             3.0             7.0             0   \n",
      "4807                  0             5.0             0.0             1   \n",
      "4808                  0             4.0             7.0             0   \n",
      "\n",
      "      first_trip_tz  most_impressing  total_cost  \n",
      "0                 0                2    674602.5  \n",
      "1                 1                6   3214906.5  \n",
      "2                 0                1   3315000.0  \n",
      "3                 1                2   7790250.0  \n",
      "4                 1                4   1657500.0  \n",
      "...             ...              ...         ...  \n",
      "4804              0                4   3315000.0  \n",
      "4805              1                2  10690875.0  \n",
      "4806              1                3   2246636.7  \n",
      "4807              0                2   1160250.0  \n",
      "4808              1                2  13260000.0  \n",
      "\n",
      "[4809 rows x 23 columns]\n"
     ]
    }
   ],
   "source": [
    "from sklearn.preprocessing import LabelEncoder\n",
    "encoder = LabelEncoder()\n",
    "# Apply label encoding to each categorical column in the DataFrame\n",
    "for column in df.columns:\n",
    "    if df[column].dtype == 'object':  # Check if the column contains categorical variables\n",
    "        df[column] = encoder.fit_transform(df[column])\n",
    "\n",
    "print(df)"
   ]
  },
  {
   "cell_type": "code",
   "execution_count": 38,
   "id": "11dc3e9b",
   "metadata": {},
   "outputs": [],
   "source": [
    "for column in test.columns:\n",
    "    if test[column].dtype == 'object':  # Check if the column contains categorical variables\n",
    "        test[column] = encoder.fit_transform(test[column])"
   ]
  },
  {
   "cell_type": "code",
   "execution_count": 39,
   "id": "d2294ae6",
   "metadata": {},
   "outputs": [],
   "source": [
    "#reducing skewness with log-transformation\n",
    "#columns should be numerical\n",
    "#Apply log transformation to selected columns\n",
    "columns_to_transform = ['most_impressing','payment_mode', 'package_insurance','info_source','main_activity','total_male','total_female']\n",
    "\n",
    "for column in columns_to_transform:\n",
    "    df[column] = np.log1p(df[column])\n",
    "for column in columns_to_transform:\n",
    "    test[column] = np.log1p(test[column])"
   ]
  },
  {
   "cell_type": "markdown",
   "id": "ce5eacfc",
   "metadata": {},
   "source": [
    "New Features"
   ]
  },
  {
   "cell_type": "code",
   "execution_count": 40,
   "id": "7913f530",
   "metadata": {},
   "outputs": [],
   "source": [
    "df['total_nights']=df['night_mainland']+ df['night_zanzibar']\n",
    "df['total_people']=df['total_female']+ df['total_male']\n",
    "df['total_transport']=df['package_transport_tz']+df['package_transport_int']\n",
    "df['total_packages']=df['package_transport_int']+df['package_accomodation']+df['package_food']+df['package_transport_tz']+df['package_sightseeing']+df['package_guided_tour']+df['package_insurance']"
   ]
  },
  {
   "cell_type": "code",
   "execution_count": 41,
   "id": "f0b33811",
   "metadata": {},
   "outputs": [],
   "source": [
    "test['total_nights']=test['night_mainland']+ test['night_zanzibar']\n",
    "test['total_people']=test['total_female']+ test['total_male']\n",
    "test['total_transport']=test['package_transport_tz']+test['package_transport_int']\n",
    "test['total_packages']=test['package_transport_int']+test['package_accomodation']+test['package_food']+test['package_transport_tz']+test['package_sightseeing']+test['package_guided_tour']+test['package_insurance']"
   ]
  },
  {
   "cell_type": "markdown",
   "id": "4c87064d",
   "metadata": {},
   "source": [
    "We can choose to drop columns with negative correlation"
   ]
  },
  {
   "cell_type": "code",
   "execution_count": 42,
   "id": "729d6509",
   "metadata": {},
   "outputs": [
    {
     "data": {
      "text/plain": [
       "purpose                 -0.158429\n",
       "most_impressing         -0.135130\n",
       "country                 -0.062853\n",
       "ID                      -0.060545\n",
       "night_mainland           0.050208\n",
       "main_activity            0.054737\n",
       "travel_with              0.088674\n",
       "payment_mode             0.100887\n",
       "total_nights             0.127909\n",
       "night_zanzibar           0.184906\n",
       "total_male               0.202122\n",
       "first_trip_tz            0.231757\n",
       "info_source              0.235917\n",
       "age_group                0.251077\n",
       "package_insurance        0.272696\n",
       "total_female             0.349010\n",
       "package_guided_tour      0.373092\n",
       "package_sightseeing      0.394056\n",
       "total_people             0.421658\n",
       "package_transport_int    0.428362\n",
       "package_transport_tz     0.434377\n",
       "package_food             0.435454\n",
       "package_accomodation     0.463381\n",
       "tour_arrangement         0.469240\n",
       "total_transport          0.484958\n",
       "total_packages           0.490388\n",
       "total_cost               1.000000\n",
       "Name: total_cost, dtype: float64"
      ]
     },
     "execution_count": 42,
     "metadata": {},
     "output_type": "execute_result"
    }
   ],
   "source": [
    "df.corr()['total_cost'].sort_values()"
   ]
  },
  {
   "cell_type": "code",
   "execution_count": 44,
   "id": "0cd3410a",
   "metadata": {},
   "outputs": [],
   "source": [
    "#letting scipy.stats identify the skewed columns\n",
    "from scipy.stats import skew\n",
    "\n",
    "# Identify skewed features\n",
    "skewness = df.apply(lambda x: skew(x))\n",
    "skewed_features = skewness[abs(skewness) > 0.5].index\n",
    "\n",
    "# Apply a logarithmic transformation to skewed features\n",
    "df[skewed_features] = np.log1p(df[skewed_features])\n"
   ]
  },
  {
   "cell_type": "code",
   "execution_count": 45,
   "id": "4f49dcc4",
   "metadata": {},
   "outputs": [],
   "source": [
    "test[skewed_features] = np.log1p(test[skewed_features])"
   ]
  },
  {
   "cell_type": "code",
   "execution_count": 46,
   "id": "cbe0cb4f",
   "metadata": {},
   "outputs": [],
   "source": [
    "df1=df.drop(['ID'],axis=1)\n",
    "test1=test.drop(['ID'],axis=1)"
   ]
  },
  {
   "cell_type": "markdown",
   "id": "5a08a402",
   "metadata": {},
   "source": [
    "Lets check for nulls again"
   ]
  },
  {
   "cell_type": "code",
   "execution_count": 47,
   "id": "11c9fd17",
   "metadata": {},
   "outputs": [
    {
     "data": {
      "text/plain": [
       "country                  0\n",
       "age_group                0\n",
       "travel_with              0\n",
       "total_female             3\n",
       "total_male               5\n",
       "purpose                  0\n",
       "main_activity            0\n",
       "info_source              0\n",
       "tour_arrangement         0\n",
       "package_transport_int    0\n",
       "package_accomodation     0\n",
       "package_food             0\n",
       "package_transport_tz     0\n",
       "package_sightseeing      0\n",
       "package_guided_tour      0\n",
       "package_insurance        0\n",
       "night_mainland           0\n",
       "night_zanzibar           0\n",
       "payment_mode             0\n",
       "first_trip_tz            0\n",
       "most_impressing          0\n",
       "total_cost               0\n",
       "total_nights             0\n",
       "total_people             8\n",
       "total_transport          0\n",
       "total_packages           0\n",
       "dtype: int64"
      ]
     },
     "execution_count": 47,
     "metadata": {},
     "output_type": "execute_result"
    }
   ],
   "source": [
    "df1.isnull().sum()"
   ]
  },
  {
   "cell_type": "code",
   "execution_count": 48,
   "id": "8980faff",
   "metadata": {},
   "outputs": [],
   "source": [
    "df1=df1.fillna(0)\n",
    "test1=test1.fillna(0)"
   ]
  },
  {
   "cell_type": "code",
   "execution_count": 49,
   "id": "d7a336a7",
   "metadata": {},
   "outputs": [
    {
     "data": {
      "text/plain": [
       "0"
      ]
     },
     "execution_count": 49,
     "metadata": {},
     "output_type": "execute_result"
    }
   ],
   "source": [
    "df1.isnull().any().sum()"
   ]
  },
  {
   "cell_type": "code",
   "execution_count": 50,
   "id": "883a48e2",
   "metadata": {},
   "outputs": [
    {
     "data": {
      "text/html": [
       "<div>\n",
       "<style scoped>\n",
       "    .dataframe tbody tr th:only-of-type {\n",
       "        vertical-align: middle;\n",
       "    }\n",
       "\n",
       "    .dataframe tbody tr th {\n",
       "        vertical-align: top;\n",
       "    }\n",
       "\n",
       "    .dataframe thead th {\n",
       "        text-align: right;\n",
       "    }\n",
       "</style>\n",
       "<table border=\"1\" class=\"dataframe\">\n",
       "  <thead>\n",
       "    <tr style=\"text-align: right;\">\n",
       "      <th></th>\n",
       "      <th>country</th>\n",
       "      <th>age_group</th>\n",
       "      <th>travel_with</th>\n",
       "      <th>total_female</th>\n",
       "      <th>total_male</th>\n",
       "      <th>purpose</th>\n",
       "      <th>main_activity</th>\n",
       "      <th>info_source</th>\n",
       "      <th>tour_arrangement</th>\n",
       "      <th>package_transport_int</th>\n",
       "      <th>...</th>\n",
       "      <th>night_mainland</th>\n",
       "      <th>night_zanzibar</th>\n",
       "      <th>payment_mode</th>\n",
       "      <th>first_trip_tz</th>\n",
       "      <th>most_impressing</th>\n",
       "      <th>total_cost</th>\n",
       "      <th>total_nights</th>\n",
       "      <th>total_people</th>\n",
       "      <th>total_transport</th>\n",
       "      <th>total_packages</th>\n",
       "    </tr>\n",
       "  </thead>\n",
       "  <tbody>\n",
       "    <tr>\n",
       "      <th>0</th>\n",
       "      <td>89</td>\n",
       "      <td>2</td>\n",
       "      <td>2</td>\n",
       "      <td>0.693147</td>\n",
       "      <td>0.693147</td>\n",
       "      <td>0.526589</td>\n",
       "      <td>0.753653</td>\n",
       "      <td>0.000000</td>\n",
       "      <td>0</td>\n",
       "      <td>0.000000</td>\n",
       "      <td>...</td>\n",
       "      <td>2.639057</td>\n",
       "      <td>0.000000</td>\n",
       "      <td>0.000000</td>\n",
       "      <td>0.000000</td>\n",
       "      <td>1.098612</td>\n",
       "      <td>13.421880</td>\n",
       "      <td>2.639057</td>\n",
       "      <td>1.386294</td>\n",
       "      <td>0.000000</td>\n",
       "      <td>0.000000</td>\n",
       "    </tr>\n",
       "    <tr>\n",
       "      <th>1</th>\n",
       "      <td>99</td>\n",
       "      <td>1</td>\n",
       "      <td>5</td>\n",
       "      <td>0.693147</td>\n",
       "      <td>0.000000</td>\n",
       "      <td>0.526589</td>\n",
       "      <td>0.625800</td>\n",
       "      <td>2.079442</td>\n",
       "      <td>0</td>\n",
       "      <td>0.000000</td>\n",
       "      <td>...</td>\n",
       "      <td>2.708050</td>\n",
       "      <td>1.124748</td>\n",
       "      <td>0.000000</td>\n",
       "      <td>0.526589</td>\n",
       "      <td>1.945910</td>\n",
       "      <td>14.983309</td>\n",
       "      <td>3.091042</td>\n",
       "      <td>0.693147</td>\n",
       "      <td>0.000000</td>\n",
       "      <td>0.000000</td>\n",
       "    </tr>\n",
       "    <tr>\n",
       "      <th>2</th>\n",
       "      <td>99</td>\n",
       "      <td>1</td>\n",
       "      <td>0</td>\n",
       "      <td>0.000000</td>\n",
       "      <td>0.693147</td>\n",
       "      <td>1.026672</td>\n",
       "      <td>0.625800</td>\n",
       "      <td>0.000000</td>\n",
       "      <td>0</td>\n",
       "      <td>0.000000</td>\n",
       "      <td>...</td>\n",
       "      <td>0.693147</td>\n",
       "      <td>1.248441</td>\n",
       "      <td>0.000000</td>\n",
       "      <td>0.000000</td>\n",
       "      <td>0.693147</td>\n",
       "      <td>15.013968</td>\n",
       "      <td>2.564949</td>\n",
       "      <td>0.693147</td>\n",
       "      <td>0.000000</td>\n",
       "      <td>0.000000</td>\n",
       "    </tr>\n",
       "    <tr>\n",
       "      <th>3</th>\n",
       "      <td>99</td>\n",
       "      <td>1</td>\n",
       "      <td>3</td>\n",
       "      <td>0.693147</td>\n",
       "      <td>0.693147</td>\n",
       "      <td>0.526589</td>\n",
       "      <td>0.753653</td>\n",
       "      <td>1.791759</td>\n",
       "      <td>1</td>\n",
       "      <td>0.000000</td>\n",
       "      <td>...</td>\n",
       "      <td>2.484907</td>\n",
       "      <td>0.000000</td>\n",
       "      <td>0.000000</td>\n",
       "      <td>0.526589</td>\n",
       "      <td>1.098612</td>\n",
       "      <td>15.868384</td>\n",
       "      <td>2.484907</td>\n",
       "      <td>1.386294</td>\n",
       "      <td>0.693147</td>\n",
       "      <td>5.000000</td>\n",
       "    </tr>\n",
       "    <tr>\n",
       "      <th>4</th>\n",
       "      <td>13</td>\n",
       "      <td>0</td>\n",
       "      <td>5</td>\n",
       "      <td>0.693147</td>\n",
       "      <td>0.000000</td>\n",
       "      <td>0.526589</td>\n",
       "      <td>0.753653</td>\n",
       "      <td>1.791759</td>\n",
       "      <td>0</td>\n",
       "      <td>0.000000</td>\n",
       "      <td>...</td>\n",
       "      <td>2.079442</td>\n",
       "      <td>0.959135</td>\n",
       "      <td>0.000000</td>\n",
       "      <td>0.526589</td>\n",
       "      <td>1.609438</td>\n",
       "      <td>14.320822</td>\n",
       "      <td>2.484907</td>\n",
       "      <td>0.693147</td>\n",
       "      <td>0.000000</td>\n",
       "      <td>0.000000</td>\n",
       "    </tr>\n",
       "    <tr>\n",
       "      <th>...</th>\n",
       "      <td>...</td>\n",
       "      <td>...</td>\n",
       "      <td>...</td>\n",
       "      <td>...</td>\n",
       "      <td>...</td>\n",
       "      <td>...</td>\n",
       "      <td>...</td>\n",
       "      <td>...</td>\n",
       "      <td>...</td>\n",
       "      <td>...</td>\n",
       "      <td>...</td>\n",
       "      <td>...</td>\n",
       "      <td>...</td>\n",
       "      <td>...</td>\n",
       "      <td>...</td>\n",
       "      <td>...</td>\n",
       "      <td>...</td>\n",
       "      <td>...</td>\n",
       "      <td>...</td>\n",
       "      <td>...</td>\n",
       "      <td>...</td>\n",
       "    </tr>\n",
       "    <tr>\n",
       "      <th>4804</th>\n",
       "      <td>95</td>\n",
       "      <td>2</td>\n",
       "      <td>0</td>\n",
       "      <td>0.000000</td>\n",
       "      <td>0.693147</td>\n",
       "      <td>0.000000</td>\n",
       "      <td>0.706395</td>\n",
       "      <td>0.000000</td>\n",
       "      <td>0</td>\n",
       "      <td>0.000000</td>\n",
       "      <td>...</td>\n",
       "      <td>1.098612</td>\n",
       "      <td>0.000000</td>\n",
       "      <td>0.423036</td>\n",
       "      <td>0.000000</td>\n",
       "      <td>1.609438</td>\n",
       "      <td>15.013968</td>\n",
       "      <td>1.098612</td>\n",
       "      <td>0.693147</td>\n",
       "      <td>0.000000</td>\n",
       "      <td>0.000000</td>\n",
       "    </tr>\n",
       "    <tr>\n",
       "      <th>4805</th>\n",
       "      <td>100</td>\n",
       "      <td>1</td>\n",
       "      <td>3</td>\n",
       "      <td>0.693147</td>\n",
       "      <td>0.693147</td>\n",
       "      <td>0.526589</td>\n",
       "      <td>0.753653</td>\n",
       "      <td>1.791759</td>\n",
       "      <td>1</td>\n",
       "      <td>0.526589</td>\n",
       "      <td>...</td>\n",
       "      <td>2.484907</td>\n",
       "      <td>0.000000</td>\n",
       "      <td>0.000000</td>\n",
       "      <td>0.526589</td>\n",
       "      <td>1.098612</td>\n",
       "      <td>16.184901</td>\n",
       "      <td>2.484907</td>\n",
       "      <td>1.386294</td>\n",
       "      <td>1.098612</td>\n",
       "      <td>6.693147</td>\n",
       "    </tr>\n",
       "    <tr>\n",
       "      <th>4806</th>\n",
       "      <td>64</td>\n",
       "      <td>0</td>\n",
       "      <td>5</td>\n",
       "      <td>0.693147</td>\n",
       "      <td>0.000000</td>\n",
       "      <td>0.526589</td>\n",
       "      <td>0.753653</td>\n",
       "      <td>2.079442</td>\n",
       "      <td>0</td>\n",
       "      <td>0.000000</td>\n",
       "      <td>...</td>\n",
       "      <td>1.386294</td>\n",
       "      <td>1.124748</td>\n",
       "      <td>0.000000</td>\n",
       "      <td>0.526589</td>\n",
       "      <td>1.386294</td>\n",
       "      <td>14.624945</td>\n",
       "      <td>2.397895</td>\n",
       "      <td>0.693147</td>\n",
       "      <td>0.000000</td>\n",
       "      <td>0.000000</td>\n",
       "    </tr>\n",
       "    <tr>\n",
       "      <th>4807</th>\n",
       "      <td>83</td>\n",
       "      <td>1</td>\n",
       "      <td>2</td>\n",
       "      <td>0.693147</td>\n",
       "      <td>0.693147</td>\n",
       "      <td>0.000000</td>\n",
       "      <td>0.000000</td>\n",
       "      <td>1.791759</td>\n",
       "      <td>0</td>\n",
       "      <td>0.526589</td>\n",
       "      <td>...</td>\n",
       "      <td>1.791759</td>\n",
       "      <td>0.000000</td>\n",
       "      <td>0.423036</td>\n",
       "      <td>0.000000</td>\n",
       "      <td>1.098612</td>\n",
       "      <td>13.964147</td>\n",
       "      <td>1.791759</td>\n",
       "      <td>1.386294</td>\n",
       "      <td>0.693147</td>\n",
       "      <td>3.000000</td>\n",
       "    </tr>\n",
       "    <tr>\n",
       "      <th>4808</th>\n",
       "      <td>99</td>\n",
       "      <td>1</td>\n",
       "      <td>3</td>\n",
       "      <td>0.693147</td>\n",
       "      <td>0.693147</td>\n",
       "      <td>0.526589</td>\n",
       "      <td>0.753653</td>\n",
       "      <td>1.791759</td>\n",
       "      <td>1</td>\n",
       "      <td>0.526589</td>\n",
       "      <td>...</td>\n",
       "      <td>1.609438</td>\n",
       "      <td>1.124748</td>\n",
       "      <td>0.000000</td>\n",
       "      <td>0.526589</td>\n",
       "      <td>1.098612</td>\n",
       "      <td>16.400263</td>\n",
       "      <td>2.484907</td>\n",
       "      <td>1.386294</td>\n",
       "      <td>1.098612</td>\n",
       "      <td>6.000000</td>\n",
       "    </tr>\n",
       "  </tbody>\n",
       "</table>\n",
       "<p>4809 rows × 26 columns</p>\n",
       "</div>"
      ],
      "text/plain": [
       "      country  age_group  travel_with  total_female  total_male   purpose  \\\n",
       "0          89          2            2      0.693147    0.693147  0.526589   \n",
       "1          99          1            5      0.693147    0.000000  0.526589   \n",
       "2          99          1            0      0.000000    0.693147  1.026672   \n",
       "3          99          1            3      0.693147    0.693147  0.526589   \n",
       "4          13          0            5      0.693147    0.000000  0.526589   \n",
       "...       ...        ...          ...           ...         ...       ...   \n",
       "4804       95          2            0      0.000000    0.693147  0.000000   \n",
       "4805      100          1            3      0.693147    0.693147  0.526589   \n",
       "4806       64          0            5      0.693147    0.000000  0.526589   \n",
       "4807       83          1            2      0.693147    0.693147  0.000000   \n",
       "4808       99          1            3      0.693147    0.693147  0.526589   \n",
       "\n",
       "      main_activity  info_source  tour_arrangement  package_transport_int  \\\n",
       "0          0.753653     0.000000                 0               0.000000   \n",
       "1          0.625800     2.079442                 0               0.000000   \n",
       "2          0.625800     0.000000                 0               0.000000   \n",
       "3          0.753653     1.791759                 1               0.000000   \n",
       "4          0.753653     1.791759                 0               0.000000   \n",
       "...             ...          ...               ...                    ...   \n",
       "4804       0.706395     0.000000                 0               0.000000   \n",
       "4805       0.753653     1.791759                 1               0.526589   \n",
       "4806       0.753653     2.079442                 0               0.000000   \n",
       "4807       0.000000     1.791759                 0               0.526589   \n",
       "4808       0.753653     1.791759                 1               0.526589   \n",
       "\n",
       "      ...  night_mainland  night_zanzibar  payment_mode  first_trip_tz  \\\n",
       "0     ...        2.639057        0.000000      0.000000       0.000000   \n",
       "1     ...        2.708050        1.124748      0.000000       0.526589   \n",
       "2     ...        0.693147        1.248441      0.000000       0.000000   \n",
       "3     ...        2.484907        0.000000      0.000000       0.526589   \n",
       "4     ...        2.079442        0.959135      0.000000       0.526589   \n",
       "...   ...             ...             ...           ...            ...   \n",
       "4804  ...        1.098612        0.000000      0.423036       0.000000   \n",
       "4805  ...        2.484907        0.000000      0.000000       0.526589   \n",
       "4806  ...        1.386294        1.124748      0.000000       0.526589   \n",
       "4807  ...        1.791759        0.000000      0.423036       0.000000   \n",
       "4808  ...        1.609438        1.124748      0.000000       0.526589   \n",
       "\n",
       "      most_impressing  total_cost  total_nights  total_people  \\\n",
       "0            1.098612   13.421880      2.639057      1.386294   \n",
       "1            1.945910   14.983309      3.091042      0.693147   \n",
       "2            0.693147   15.013968      2.564949      0.693147   \n",
       "3            1.098612   15.868384      2.484907      1.386294   \n",
       "4            1.609438   14.320822      2.484907      0.693147   \n",
       "...               ...         ...           ...           ...   \n",
       "4804         1.609438   15.013968      1.098612      0.693147   \n",
       "4805         1.098612   16.184901      2.484907      1.386294   \n",
       "4806         1.386294   14.624945      2.397895      0.693147   \n",
       "4807         1.098612   13.964147      1.791759      1.386294   \n",
       "4808         1.098612   16.400263      2.484907      1.386294   \n",
       "\n",
       "      total_transport  total_packages  \n",
       "0            0.000000        0.000000  \n",
       "1            0.000000        0.000000  \n",
       "2            0.000000        0.000000  \n",
       "3            0.693147        5.000000  \n",
       "4            0.000000        0.000000  \n",
       "...               ...             ...  \n",
       "4804         0.000000        0.000000  \n",
       "4805         1.098612        6.693147  \n",
       "4806         0.000000        0.000000  \n",
       "4807         0.693147        3.000000  \n",
       "4808         1.098612        6.000000  \n",
       "\n",
       "[4809 rows x 26 columns]"
      ]
     },
     "execution_count": 50,
     "metadata": {},
     "output_type": "execute_result"
    }
   ],
   "source": [
    "df1"
   ]
  },
  {
   "cell_type": "code",
   "execution_count": 51,
   "id": "8c7ba9fe",
   "metadata": {},
   "outputs": [],
   "source": [
    "#sns.pairplot(df)#to see if there is linear relation"
   ]
  },
  {
   "cell_type": "code",
   "execution_count": 52,
   "id": "3dc2617d",
   "metadata": {},
   "outputs": [],
   "source": [
    "df1.drop(columns = ['total_male', 'total_female'], inplace = True, axis = 1)\n",
    "test1.drop(columns = ['total_male', 'total_female'], inplace = True, axis = 1)"
   ]
  },
  {
   "cell_type": "markdown",
   "id": "dc3f2f1b",
   "metadata": {},
   "source": [
    "# Model Building"
   ]
  },
  {
   "cell_type": "markdown",
   "id": "b79cf0d4",
   "metadata": {},
   "source": [
    "We split the data into train set and the test set"
   ]
  },
  {
   "cell_type": "code",
   "execution_count": 53,
   "id": "3530b353",
   "metadata": {},
   "outputs": [],
   "source": [
    "\n",
    "X=df1.drop('total_cost',axis=1)\n",
    "y=df1['total_cost']"
   ]
  },
  {
   "cell_type": "code",
   "execution_count": 54,
   "id": "c6902644",
   "metadata": {},
   "outputs": [],
   "source": [
    "#from sklearn.model_selection import train_test_split\n",
    "#X_train, X_test, y_train, y_test = train_test_split(X,y,test_size=0.3,random_state=102)"
   ]
  },
  {
   "cell_type": "code",
   "execution_count": 55,
   "id": "3179ff5c",
   "metadata": {},
   "outputs": [],
   "source": [
    "# Scaling the numeric values in the dataset\n",
    "\n",
    "from sklearn.preprocessing import StandardScaler\n",
    "\n",
    "\n",
    "scaler = StandardScaler()\n",
    "X_scaled = scaler.fit_transform(X)\n",
    "#X_test_scaled = scaler.fit_transform(X_test)\n"
   ]
  },
  {
   "cell_type": "code",
   "execution_count": 56,
   "id": "742846c8",
   "metadata": {},
   "outputs": [],
   "source": [
    "X1 = pd.DataFrame(data=X_scaled, columns=X.columns)\n",
    "test1=scaler.fit_transform(test1)"
   ]
  },
  {
   "cell_type": "code",
   "execution_count": 57,
   "id": "c513f6ba",
   "metadata": {},
   "outputs": [
    {
     "data": {
      "text/plain": [
       "0       13.421880\n",
       "1       14.983309\n",
       "2       15.013968\n",
       "3       15.868384\n",
       "4       14.320822\n",
       "          ...    \n",
       "4804    15.013968\n",
       "4805    16.184901\n",
       "4806    14.624945\n",
       "4807    13.964147\n",
       "4808    16.400263\n",
       "Name: total_cost, Length: 4809, dtype: float64"
      ]
     },
     "execution_count": 57,
     "metadata": {},
     "output_type": "execute_result"
    }
   ],
   "source": [
    "y"
   ]
  },
  {
   "cell_type": "markdown",
   "id": "65af38b5",
   "metadata": {},
   "source": [
    "# Lgbm Regressor"
   ]
  },
  {
   "cell_type": "code",
   "execution_count": 58,
   "id": "e2dc5a17",
   "metadata": {},
   "outputs": [],
   "source": [
    "#lets use lgbm regressor since this is a regression task\n",
    "from sklearn.model_selection import GridSearchCV\n",
    "from sklearn.model_selection import KFold\n",
    "import lightgbm as lgb\n",
    "from sklearn.model_selection import train_test_split\n",
    "from sklearn.metrics import mean_squared_error, mean_absolute_error, r2_score\n",
    "\n",
    "# Define number of folds for cross-validation\n",
    "num_folds = 5\n",
    "\n",
    "# Initialize K-fold cross-validation\n",
    "kf = KFold(n_splits=num_folds, shuffle=True, random_state=42)\n",
    "\n",
    "# Initialize list to store the validation scores\n",
    "scores = []\n",
    "\n",
    "# Set the parameter grid for GridSearch\n",
    "param_grid = {\n",
    "    'learning_rate': [0.1, 0.2, 0.3],\n",
    "    'max_depth': [8, 12, 16],\n",
    "    'subsample': [0.8, 0.9, 1.0],\n",
    "    'colsample_bytree': [0.4, 0.5, 0.6]\n",
    "}\n",
    "\n",
    "# Initialize and fit GridSearchCV\n",
    "grid_search = GridSearchCV(estimator=lgb.LGBMRegressor(), param_grid=param_grid, cv=kf, scoring='neg_mean_squared_error')\n",
    "grid_search.fit(X1, y)\n",
    "\n",
    "# Get the best estimator/model from GridSearchCV\n",
    "best_regressor = grid_search.best_estimator_\n",
    "\n"
   ]
  },
  {
   "cell_type": "code",
   "execution_count": 59,
   "id": "c33639d3",
   "metadata": {},
   "outputs": [
    {
     "name": "stdout",
     "output_type": "stream",
     "text": [
      "Mean MSE: 1.22280586276482\n",
      "Standard Deviation of MSE: 0.056932754485106825\n",
      "Mean Squared Error (MSE): 1.289480520466241\n",
      "Mean Absolute Error (MAE): 0.8538832672811411\n",
      "R-squared (R2) Score: 0.5696273492290795\n"
     ]
    }
   ],
   "source": [
    "# Iterate over the folds\n",
    "for fold, (train_index, test_index) in enumerate(kf.split(X1,y)):\n",
    "    X_train, X_test = X.iloc[train_index], X.iloc[test_index]\n",
    "    y_train, y_test = y.iloc[train_index], y.iloc[test_index]\n",
    "   \n",
    "  \n",
    "\n",
    "    # Fit the best model obtained from GridSearch\n",
    "    best_regressor.fit(X_train, y_train)\n",
    "\n",
    "    # Make predictions on the validation set\n",
    "    y_pred = best_regressor.predict(X_test)\n",
    "\n",
    "    # Calculate mean squared error (MSE)\n",
    "    mse = mean_squared_error(y_test, y_pred)\n",
    "    mae = mean_absolute_error(y_test, y_pred)\n",
    "    lgbm_r2 = r2_score(y_test, y_pred)\n",
    "\n",
    "    # Store the MSE score\n",
    "    scores.append(mse)\n",
    "\n",
    "# Print the mean and standard deviation of the MSE scores\n",
    "print(\"Mean MSE:\", np.mean(scores))\n",
    "print(\"Standard Deviation of MSE:\", np.std(scores))\n",
    "print(\"Mean Squared Error (MSE):\", mse)\n",
    "print(\"Mean Absolute Error (MAE):\", mae)\n",
    "print(\"R-squared (R2) Score:\", lgbm_r2)# i like using r2 since it simple to understand model perforemance\n"
   ]
  },
  {
   "cell_type": "markdown",
   "id": "f4a8c44b",
   "metadata": {},
   "source": [
    "*for now lets settle with an r2 score of 0.56.*\n",
    "*But we have to refresh our mind and come try new tricks untill the model gets r2 score of 0.7*"
   ]
  },
  {
   "cell_type": "markdown",
   "id": "101bead0",
   "metadata": {},
   "source": [
    "## Zindi Predictions\n",
    "\n",
    "Importantly for me was to have the model perform good but lets proceed to making predictions with the test set"
   ]
  },
  {
   "cell_type": "code",
   "execution_count": 60,
   "id": "8ee267db",
   "metadata": {},
   "outputs": [],
   "source": [
    "preds=best_regressor.predict(test1)\n",
    "# Assuming y is your transformed target variable\n",
    "transformed_preds = np.exp(preds)-1\n",
    "subb=pd.DataFrame({\n",
    "    'ID':test['ID'],\n",
    "    'total_cost':transformed_preds\n",
    "})\n"
   ]
  },
  {
   "cell_type": "code",
   "execution_count": 61,
   "id": "18392c01",
   "metadata": {},
   "outputs": [
    {
     "data": {
      "text/html": [
       "<div>\n",
       "<style scoped>\n",
       "    .dataframe tbody tr th:only-of-type {\n",
       "        vertical-align: middle;\n",
       "    }\n",
       "\n",
       "    .dataframe tbody tr th {\n",
       "        vertical-align: top;\n",
       "    }\n",
       "\n",
       "    .dataframe thead th {\n",
       "        text-align: right;\n",
       "    }\n",
       "</style>\n",
       "<table border=\"1\" class=\"dataframe\">\n",
       "  <thead>\n",
       "    <tr style=\"text-align: right;\">\n",
       "      <th></th>\n",
       "      <th>count</th>\n",
       "      <th>mean</th>\n",
       "      <th>std</th>\n",
       "      <th>min</th>\n",
       "      <th>25%</th>\n",
       "      <th>50%</th>\n",
       "      <th>75%</th>\n",
       "      <th>max</th>\n",
       "    </tr>\n",
       "  </thead>\n",
       "  <tbody>\n",
       "    <tr>\n",
       "      <th>ID</th>\n",
       "      <td>1601.0</td>\n",
       "      <td>8.000000e+02</td>\n",
       "      <td>4.623132e+02</td>\n",
       "      <td>0.00000</td>\n",
       "      <td>400.000000</td>\n",
       "      <td>800.000000</td>\n",
       "      <td>1.200000e+03</td>\n",
       "      <td>1.600000e+03</td>\n",
       "    </tr>\n",
       "    <tr>\n",
       "      <th>total_cost</th>\n",
       "      <td>1601.0</td>\n",
       "      <td>1.157295e+06</td>\n",
       "      <td>1.069844e+06</td>\n",
       "      <td>162460.11537</td>\n",
       "      <td>415789.668302</td>\n",
       "      <td>703137.101315</td>\n",
       "      <td>1.622181e+06</td>\n",
       "      <td>1.008197e+07</td>\n",
       "    </tr>\n",
       "  </tbody>\n",
       "</table>\n",
       "</div>"
      ],
      "text/plain": [
       "             count          mean           std           min            25%  \\\n",
       "ID          1601.0  8.000000e+02  4.623132e+02       0.00000     400.000000   \n",
       "total_cost  1601.0  1.157295e+06  1.069844e+06  162460.11537  415789.668302   \n",
       "\n",
       "                      50%           75%           max  \n",
       "ID             800.000000  1.200000e+03  1.600000e+03  \n",
       "total_cost  703137.101315  1.622181e+06  1.008197e+07  "
      ]
     },
     "execution_count": 61,
     "metadata": {},
     "output_type": "execute_result"
    }
   ],
   "source": [
    "subb.describe().T"
   ]
  },
  {
   "cell_type": "code",
   "execution_count": 62,
   "id": "6852f5df",
   "metadata": {},
   "outputs": [],
   "source": [
    "subb.to_csv('Sub_zindi.csv')"
   ]
  },
  {
   "cell_type": "code",
   "execution_count": 63,
   "id": "9749fc9e",
   "metadata": {},
   "outputs": [
    {
     "data": {
      "text/html": [
       "<div>\n",
       "<style scoped>\n",
       "    .dataframe tbody tr th:only-of-type {\n",
       "        vertical-align: middle;\n",
       "    }\n",
       "\n",
       "    .dataframe tbody tr th {\n",
       "        vertical-align: top;\n",
       "    }\n",
       "\n",
       "    .dataframe thead th {\n",
       "        text-align: right;\n",
       "    }\n",
       "</style>\n",
       "<table border=\"1\" class=\"dataframe\">\n",
       "  <thead>\n",
       "    <tr style=\"text-align: right;\">\n",
       "      <th></th>\n",
       "      <th>ID</th>\n",
       "      <th>total_cost</th>\n",
       "    </tr>\n",
       "  </thead>\n",
       "  <tbody>\n",
       "    <tr>\n",
       "      <th>0</th>\n",
       "      <td>tour_1</td>\n",
       "      <td>0</td>\n",
       "    </tr>\n",
       "    <tr>\n",
       "      <th>1</th>\n",
       "      <td>tour_100</td>\n",
       "      <td>0</td>\n",
       "    </tr>\n",
       "    <tr>\n",
       "      <th>2</th>\n",
       "      <td>tour_1001</td>\n",
       "      <td>0</td>\n",
       "    </tr>\n",
       "    <tr>\n",
       "      <th>3</th>\n",
       "      <td>tour_1006</td>\n",
       "      <td>0</td>\n",
       "    </tr>\n",
       "    <tr>\n",
       "      <th>4</th>\n",
       "      <td>tour_1009</td>\n",
       "      <td>0</td>\n",
       "    </tr>\n",
       "    <tr>\n",
       "      <th>...</th>\n",
       "      <td>...</td>\n",
       "      <td>...</td>\n",
       "    </tr>\n",
       "    <tr>\n",
       "      <th>1596</th>\n",
       "      <td>tour_988</td>\n",
       "      <td>0</td>\n",
       "    </tr>\n",
       "    <tr>\n",
       "      <th>1597</th>\n",
       "      <td>tour_990</td>\n",
       "      <td>0</td>\n",
       "    </tr>\n",
       "    <tr>\n",
       "      <th>1598</th>\n",
       "      <td>tour_992</td>\n",
       "      <td>0</td>\n",
       "    </tr>\n",
       "    <tr>\n",
       "      <th>1599</th>\n",
       "      <td>tour_996</td>\n",
       "      <td>0</td>\n",
       "    </tr>\n",
       "    <tr>\n",
       "      <th>1600</th>\n",
       "      <td>tour_998</td>\n",
       "      <td>0</td>\n",
       "    </tr>\n",
       "  </tbody>\n",
       "</table>\n",
       "<p>1601 rows × 2 columns</p>\n",
       "</div>"
      ],
      "text/plain": [
       "             ID  total_cost\n",
       "0        tour_1           0\n",
       "1      tour_100           0\n",
       "2     tour_1001           0\n",
       "3     tour_1006           0\n",
       "4     tour_1009           0\n",
       "...         ...         ...\n",
       "1596   tour_988           0\n",
       "1597   tour_990           0\n",
       "1598   tour_992           0\n",
       "1599   tour_996           0\n",
       "1600   tour_998           0\n",
       "\n",
       "[1601 rows x 2 columns]"
      ]
     },
     "execution_count": 63,
     "metadata": {},
     "output_type": "execute_result"
    }
   ],
   "source": [
    "# I also dont get why they want us to use the ID column of sample submission, either way lets do it.\n",
    "ss=pd.read_csv('SampleSubmission (5).csv')\n",
    "ss"
   ]
  },
  {
   "cell_type": "code",
   "execution_count": 64,
   "id": "d43ab38a",
   "metadata": {},
   "outputs": [],
   "source": [
    "newsub=pd.DataFrame({\n",
    "    'ID':ss['ID'],\n",
    "    'total_cost':transformed_preds\n",
    "})\n",
    "newsub.to_csv('tanzsub2.csv')"
   ]
  },
  {
   "cell_type": "markdown",
   "id": "79249cdc",
   "metadata": {},
   "source": [
    "<h1 style=\"color:Orange\"> THE END!</h1>"
   ]
  }
 ],
 "metadata": {
  "kernelspec": {
   "display_name": "Python 3 (ipykernel)",
   "language": "python",
   "name": "python3"
  },
  "language_info": {
   "codemirror_mode": {
    "name": "ipython",
    "version": 3
   },
   "file_extension": ".py",
   "mimetype": "text/x-python",
   "name": "python",
   "nbconvert_exporter": "python",
   "pygments_lexer": "ipython3",
   "version": "3.9.13"
  }
 },
 "nbformat": 4,
 "nbformat_minor": 5
}
